{
 "cells": [
  {
   "cell_type": "markdown",
   "metadata": {
    "toc": true
   },
   "source": [
    "<h1>Содержание<span class=\"tocSkip\"></span></h1>\n",
    "<div class=\"toc\"><ul class=\"toc-item\"><li><span><a href=\"#Подготовка\" data-toc-modified-id=\"Подготовка-1\"><span class=\"toc-item-num\">1&nbsp;&nbsp;</span>Подготовка</a></span></li><li><span><a href=\"#Анализ\" data-toc-modified-id=\"Анализ-2\"><span class=\"toc-item-num\">2&nbsp;&nbsp;</span>Анализ</a></span></li><li><span><a href=\"#Обучение\" data-toc-modified-id=\"Обучение-3\"><span class=\"toc-item-num\">3&nbsp;&nbsp;</span>Обучение</a></span></li><li><span><a href=\"#Тестирование\" data-toc-modified-id=\"Тестирование-4\"><span class=\"toc-item-num\">4&nbsp;&nbsp;</span>Тестирование</a></span></li><li><span><a href=\"#Чек-лист-проверки\" data-toc-modified-id=\"Чек-лист-проверки-5\"><span class=\"toc-item-num\">5&nbsp;&nbsp;</span>Чек-лист проверки</a></span></li></ul></div>"
   ]
  },
  {
   "cell_type": "markdown",
   "metadata": {},
   "source": [
    "#  Прогнозирование заказов такси"
   ]
  },
  {
   "cell_type": "markdown",
   "metadata": {},
   "source": [
    "Компания «Чётенькое такси» собрала исторические данные о заказах такси в аэропортах. Чтобы привлекать больше водителей в период пиковой нагрузки, нужно спрогнозировать количество заказов такси на следующий час. Постройте модель для такого предсказания.\n",
    "\n",
    "Значение метрики *RMSE* на тестовой выборке должно быть не больше 48.\n",
    "\n",
    "Вам нужно:\n",
    "\n",
    "1. Загрузить данные и выполнить их ресемплирование по одному часу.\n",
    "2. Проанализировать данные.\n",
    "3. Обучить разные модели с различными гиперпараметрами. Сделать тестовую выборку размером 10% от исходных данных.\n",
    "4. Проверить данные на тестовой выборке и сделать выводы.\n",
    "\n",
    "\n",
    "Данные лежат в файле `taxi.csv`. Количество заказов находится в столбце `num_orders` (от англ. *number of orders*, «число заказов»)."
   ]
  },
  {
   "cell_type": "markdown",
   "metadata": {},
   "source": [
    "## Подготовка"
   ]
  },
  {
   "cell_type": "code",
   "execution_count": 1,
   "metadata": {},
   "outputs": [],
   "source": [
    "import pandas as pd\n",
    "import numpy as np\n",
    "from sklearn.model_selection import train_test_split\n",
    "from sklearn.linear_model import LinearRegression\n",
    "from sklearn.tree import DecisionTreeRegressor\n",
    "from sklearn.ensemble import RandomForestRegressor\n",
    "from sklearn.metrics import mean_squared_error\n",
    "import matplotlib.pyplot as plt\n",
    "from statsmodels.tsa.seasonal import seasonal_decompose\n",
    "from sklearn.model_selection import cross_val_score\n",
    "from sklearn.model_selection import TimeSeriesSplit, GridSearchCV\n",
    "import xgboost as xgb"
   ]
  },
  {
   "cell_type": "code",
   "execution_count": 2,
   "metadata": {},
   "outputs": [],
   "source": [
    "df = pd.read_csv('/datasets/taxi.csv')"
   ]
  },
  {
   "cell_type": "markdown",
   "metadata": {},
   "source": [
    "Узнаем размер таблицы и данные"
   ]
  },
  {
   "cell_type": "code",
   "execution_count": 3,
   "metadata": {},
   "outputs": [
    {
     "name": "stdout",
     "output_type": "stream",
     "text": [
      "<class 'pandas.core.frame.DataFrame'>\n",
      "RangeIndex: 26496 entries, 0 to 26495\n",
      "Data columns (total 2 columns):\n",
      " #   Column      Non-Null Count  Dtype \n",
      "---  ------      --------------  ----- \n",
      " 0   datetime    26496 non-null  object\n",
      " 1   num_orders  26496 non-null  int64 \n",
      "dtypes: int64(1), object(1)\n",
      "memory usage: 414.1+ KB\n"
     ]
    }
   ],
   "source": [
    "df.info()"
   ]
  },
  {
   "cell_type": "code",
   "execution_count": 4,
   "metadata": {},
   "outputs": [
    {
     "data": {
      "text/html": [
       "<div>\n",
       "<style scoped>\n",
       "    .dataframe tbody tr th:only-of-type {\n",
       "        vertical-align: middle;\n",
       "    }\n",
       "\n",
       "    .dataframe tbody tr th {\n",
       "        vertical-align: top;\n",
       "    }\n",
       "\n",
       "    .dataframe thead th {\n",
       "        text-align: right;\n",
       "    }\n",
       "</style>\n",
       "<table border=\"1\" class=\"dataframe\">\n",
       "  <thead>\n",
       "    <tr style=\"text-align: right;\">\n",
       "      <th></th>\n",
       "      <th>datetime</th>\n",
       "      <th>num_orders</th>\n",
       "    </tr>\n",
       "  </thead>\n",
       "  <tbody>\n",
       "    <tr>\n",
       "      <th>0</th>\n",
       "      <td>2018-03-01 00:00:00</td>\n",
       "      <td>9</td>\n",
       "    </tr>\n",
       "    <tr>\n",
       "      <th>1</th>\n",
       "      <td>2018-03-01 00:10:00</td>\n",
       "      <td>14</td>\n",
       "    </tr>\n",
       "    <tr>\n",
       "      <th>2</th>\n",
       "      <td>2018-03-01 00:20:00</td>\n",
       "      <td>28</td>\n",
       "    </tr>\n",
       "    <tr>\n",
       "      <th>3</th>\n",
       "      <td>2018-03-01 00:30:00</td>\n",
       "      <td>20</td>\n",
       "    </tr>\n",
       "    <tr>\n",
       "      <th>4</th>\n",
       "      <td>2018-03-01 00:40:00</td>\n",
       "      <td>32</td>\n",
       "    </tr>\n",
       "  </tbody>\n",
       "</table>\n",
       "</div>"
      ],
      "text/plain": [
       "              datetime  num_orders\n",
       "0  2018-03-01 00:00:00           9\n",
       "1  2018-03-01 00:10:00          14\n",
       "2  2018-03-01 00:20:00          28\n",
       "3  2018-03-01 00:30:00          20\n",
       "4  2018-03-01 00:40:00          32"
      ]
     },
     "execution_count": 4,
     "metadata": {},
     "output_type": "execute_result"
    }
   ],
   "source": [
    "df.head()"
   ]
  },
  {
   "cell_type": "markdown",
   "metadata": {},
   "source": [
    "Проверим количество явных дубликотв и при наличии избавимся от них"
   ]
  },
  {
   "cell_type": "code",
   "execution_count": 5,
   "metadata": {},
   "outputs": [
    {
     "data": {
      "text/plain": [
       "0"
      ]
     },
     "execution_count": 5,
     "metadata": {},
     "output_type": "execute_result"
    }
   ],
   "source": [
    "df.duplicated().sum()"
   ]
  },
  {
   "cell_type": "markdown",
   "metadata": {},
   "source": [
    "Проверим количество пропусков и при наличии избавимся от них"
   ]
  },
  {
   "cell_type": "code",
   "execution_count": 6,
   "metadata": {
    "scrolled": true
   },
   "outputs": [
    {
     "data": {
      "text/plain": [
       "datetime      0\n",
       "num_orders    0\n",
       "dtype: int64"
      ]
     },
     "execution_count": 6,
     "metadata": {},
     "output_type": "execute_result"
    }
   ],
   "source": [
    "df.isna().sum()"
   ]
  },
  {
   "cell_type": "code",
   "execution_count": 7,
   "metadata": {},
   "outputs": [],
   "source": [
    "df['num_orders'] = pd.to_numeric(df['num_orders'], errors='coerce')\n",
    "df['datetime'] = pd.to_datetime(df['datetime'])\n",
    "df = df.set_index('datetime')\n",
    "\n",
    "# Ресемплирование данных по одному часу\n",
    "df = df.resample('1H').sum()"
   ]
  },
  {
   "cell_type": "markdown",
   "metadata": {},
   "source": [
    "## Анализ"
   ]
  },
  {
   "cell_type": "markdown",
   "metadata": {},
   "source": [
    "Вычислим основные статистические характеристики данных о заказах:"
   ]
  },
  {
   "cell_type": "code",
   "execution_count": 8,
   "metadata": {},
   "outputs": [
    {
     "data": {
      "text/plain": [
       "count    4416.000000\n",
       "mean       84.422781\n",
       "std        45.023853\n",
       "min         0.000000\n",
       "25%        54.000000\n",
       "50%        78.000000\n",
       "75%       107.000000\n",
       "max       462.000000\n",
       "Name: num_orders, dtype: float64"
      ]
     },
     "execution_count": 8,
     "metadata": {},
     "output_type": "execute_result"
    }
   ],
   "source": [
    "df['num_orders'].describe()"
   ]
  },
  {
   "cell_type": "markdown",
   "metadata": {},
   "source": [
    "Проведем анализ трендов и сезонности с помощью метода декомпозиции временных рядов:"
   ]
  },
  {
   "cell_type": "code",
   "execution_count": 9,
   "metadata": {},
   "outputs": [
    {
     "data": {
      "image/png": "[encoded data removed]",
      "text/plain": [
       "<Figure size 864x576 with 3 Axes>"
      ]
     },
     "metadata": {
      "needs_background": "light"
     },
     "output_type": "display_data"
    }
   ],
   "source": [
    "# Декомпозиция временных рядов\n",
    "decomposition = seasonal_decompose(df['num_orders'], model='additive')\n",
    "\n",
    "# Визуализация декомпозиции\n",
    "plt.figure(figsize=(12, 8))\n",
    "plt.subplot(4, 1, 1)\n",
    "plt.plot(df.index, decomposition.trend)\n",
    "plt.title('Тренд')\n",
    "plt.subplot(4, 1, 2)\n",
    "plt.plot(df.index, decomposition.seasonal)\n",
    "plt.title('Сезонность')\n",
    "plt.subplot(4, 1, 3)\n",
    "plt.plot(df.index, decomposition.resid)\n",
    "plt.title('Остаток')\n",
    "plt.tight_layout()\n",
    "plt.show()"
   ]
  },
  {
   "cell_type": "markdown",
   "metadata": {},
   "source": [
    "Для более показательных графиков уменьшим интервал до недели"
   ]
  },
  {
   "cell_type": "code",
   "execution_count": 10,
   "metadata": {},
   "outputs": [
    {
     "data": {
      "image/png": "[encoded data removed]",
      "text/plain": [
       "<Figure size 864x576 with 3 Axes>"
      ]
     },
     "metadata": {
      "needs_background": "light"
     },
     "output_type": "display_data"
    }
   ],
   "source": [
    "start_date = '2018-08-01'\n",
    "end_date = '2018-08-07'\n",
    "selected_data = df[start_date:end_date]\n",
    "\n",
    "# Декомпозиция временных рядов\n",
    "decomposition = seasonal_decompose(selected_data['num_orders'], model='additive')\n",
    "\n",
    "# Визуализация декомпозиции\n",
    "plt.figure(figsize=(12, 8))\n",
    "plt.subplot(4, 1, 1)\n",
    "plt.plot(selected_data.index, decomposition.trend)\n",
    "plt.title('Тренд ')\n",
    "plt.subplot(4, 1, 2)\n",
    "plt.plot(selected_data.index, decomposition.seasonal)\n",
    "plt.title('Сезонность')\n",
    "plt.subplot(4, 1, 3)\n",
    "plt.plot(selected_data.index, decomposition.resid)\n",
    "plt.title('Остаток')\n",
    "plt.tight_layout()\n",
    "plt.show()"
   ]
  },
  {
   "cell_type": "markdown",
   "metadata": {},
   "source": [
    "Тренд на графике декомпозиции растет на 4 числа, затем падает и снова растет на 6 чисел, что может указывать на наличие периодической сезонности или цикличности в данных.\n",
    "\n",
    "Сезонность на графике декомпозиции является однородной. Это означает, что поведение заказов в определенное время дня или дня недели остается стабильным в течение этого периода."
   ]
  },
  {
   "cell_type": "code",
   "execution_count": 11,
   "metadata": {},
   "outputs": [],
   "source": [
    "def make_features(df, max_lag, rolling_sum_size):\n",
    "    df['day'] = df.index.day\n",
    "    df['dayofweek'] = df.index.dayofweek\n",
    "    df['hour'] = df.index.hour\n",
    "\n",
    "    for lag in range(1, max_lag + 1):\n",
    "        df['lag_{}'.format(lag)] = df['num_orders'].shift(lag)\n",
    "\n",
    "    df['rolling_sum'] = df['num_orders'].shift().rolling(rolling_sum_size).sum()\n",
    "\n",
    "    # Удалить строки с пропущенными значениями\n",
    "    df = df[max_lag + rolling_sum_size - 1:]\n",
    "\n",
    "    return df"
   ]
  },
  {
   "cell_type": "markdown",
   "metadata": {},
   "source": [
    "Создадим функцию make_features,которая выполняет следующие операции:\n",
    "\n",
    "Добавляет фактор дня (day): Разделяет временные метки на дни месяца, что может помочь учесть изменения в поведении заказов внутри каждого месяца.\n",
    "\n",
    "Добавляет фактор дня недели (dayofweek): Разделяет временные метки на дни недели, чтобы учесть возможные сезонные или циклические изменения, связанные с конкретными днями недели (например, повышенный спрос по выходным или пониженный спрос в будние дни).\n",
    "\n",
    "Добавляет фактор часа (hour): Разделяет временные метки на часы дня, чтобы учесть часовые изменения в поведении заказов (например, пики активности в определенные часы дня).\n",
    "\n",
    "Добавляет лаги (lag): Создает отстающие значения (лаги) для столбца num_orders, смещая его на заданное количество временных шагов. Это позволяет учесть зависимость текущих заказов от предыдущих значений и захватить возможные временные закономерности.\n",
    "\n",
    "Добавляет скользящую сумму (rolling_sum): Рассчитывает скользящую среднюю для столбца num_orders со сдвигом на один временной шаг. Это позволяет учесть сглаженные тренды или общую динамику данных.\n",
    "\n",
    "Эти операции помогают расширить исходные данные и добавить дополнительные признаки, которые могут быть полезны для анализа и прогнозирования временных рядов заказов. "
   ]
  },
  {
   "cell_type": "code",
   "execution_count": 12,
   "metadata": {},
   "outputs": [],
   "source": [
    "df_features = make_features(df, max_lag=47, rolling_sum_size=50)\n"
   ]
  },
  {
   "cell_type": "markdown",
   "metadata": {},
   "source": [
    "## Обучение"
   ]
  },
  {
   "cell_type": "code",
   "execution_count": 13,
   "metadata": {},
   "outputs": [],
   "source": [
    "# Подготовка признаков с помощью функции make_features\n",
    "df_features = make_features(df, max_lag=47, rolling_sum_size=50)\n",
    "\n",
    "# Разделение на обучающую и тестовую выборки\n",
    "train_df, test_df = train_test_split(df_features, test_size=0.1, shuffle=False)\n",
    "\n",
    "# Создание матрицы признаков и вектора целевой переменной для обучающей выборки\n",
    "X_train = train_df.drop('num_orders', axis=1)\n",
    "y_train = train_df['num_orders']"
   ]
  },
  {
   "cell_type": "code",
   "execution_count": 14,
   "metadata": {},
   "outputs": [],
   "source": [
    "# Создание объекта TimeSeriesSplit\n",
    "tscv = TimeSeriesSplit(n_splits=10)\n",
    "\n",
    "# Определение модели линейной регрессии\n",
    "linear_regression = LinearRegression()\n",
    "linear_regression.fit(X_train, y_train)\n",
    "\n",
    "# Определение модели решающего дерева\n",
    "decision_tree = DecisionTreeRegressor()\n",
    "\n",
    "# Определение модели случайного леса\n",
    "random_forest = RandomForestRegressor()\n",
    "\n",
    "# Задание сетки параметров для перебора\n",
    "param_grid = {\n",
    "    'max_depth': [5, 10, 15],\n",
    "    'min_samples_split': [2, 5, 10],\n",
    "    'n_estimators': [100, 200, 300]\n",
    "}"
   ]
  },
  {
   "cell_type": "code",
   "execution_count": 15,
   "metadata": {
    "scrolled": true
   },
   "outputs": [
    {
     "name": "stdout",
     "output_type": "stream",
     "text": [
      "Linear Regression Best Parameters: {}\n",
      "Decision Tree Best Parameters: {'max_depth': 5, 'min_samples_split': 10}\n",
      "Random Forest Best Parameters: {'max_depth': 15, 'min_samples_split': 2, 'n_estimators': 300}\n"
     ]
    }
   ],
   "source": [
    "# Создание объектов GridSearchCV для каждой модели\n",
    "linear_regression_grid = GridSearchCV(estimator=linear_regression, param_grid={}, scoring='neg_mean_squared_error', cv=tscv)\n",
    "decision_tree_grid = GridSearchCV(estimator=decision_tree, param_grid={'max_depth': [5, 10, 15], 'min_samples_split': [2, 5, 10]}, scoring='neg_mean_squared_error', cv=tscv)\n",
    "random_forest_grid = GridSearchCV(estimator=random_forest, param_grid={'max_depth': [5, 10, 15], 'min_samples_split': [2, 5, 10], 'n_estimators': [100, 200, 300]}, scoring='neg_mean_squared_error', cv=tscv)\n",
    "\n",
    "# Обучение моделей с перебором гиперпараметров\n",
    "linear_regression_grid.fit(X_train, y_train)\n",
    "decision_tree_grid.fit(X_train, y_train)\n",
    "random_forest_grid.fit(X_train, y_train)\n",
    "\n",
    "# Получение наилучших параметров для каждой модели\n",
    "best_linear_regression_params = linear_regression_grid.best_params_\n",
    "best_decision_tree_params = decision_tree_grid.best_params_\n",
    "best_random_forest_params = random_forest_grid.best_params_\n",
    "\n",
    "# Вывод результатов\n",
    "print('Linear Regression Best Parameters:', best_linear_regression_params)\n",
    "print('Decision Tree Best Parameters:', best_decision_tree_params)\n",
    "print('Random Forest Best Parameters:', best_random_forest_params)"
   ]
  },
  {
   "cell_type": "code",
   "execution_count": 16,
   "metadata": {},
   "outputs": [],
   "source": [
    "# Создание моделей с лучшими гиперпараметрами\n",
    "best_linear_regression = LinearRegression(**best_linear_regression_params)\n",
    "best_decision_tree = DecisionTreeRegressor(**best_decision_tree_params)\n",
    "best_random_forest = RandomForestRegressor(**best_random_forest_params)\n"
   ]
  },
  {
   "cell_type": "code",
   "execution_count": 17,
   "metadata": {},
   "outputs": [],
   "source": [
    "# Обучение моделей\n",
    "best_linear_regression.fit(X_train, y_train)\n",
    "best_decision_tree.fit(X_train, y_train)\n",
    "best_random_forest.fit(X_train, y_train)\n",
    "\n",
    "# Получение предсказаний \n",
    "linear_regression_train_predictions = best_linear_regression.predict(X_train)\n",
    "decision_tree_train_predictions = best_decision_tree.predict(X_train)\n",
    "random_forest_train_predictions = best_random_forest.predict(X_train)\n",
    "\n",
    "# Расчет MSE \n",
    "linear_regression_train_mse = mean_squared_error(y_train, linear_regression_train_predictions)\n",
    "decision_tree_train_mse = mean_squared_error(y_train, decision_tree_train_predictions)\n",
    "random_forest_train_mse = mean_squared_error(y_train, random_forest_train_predictions)\n"
   ]
  },
  {
   "cell_type": "code",
   "execution_count": 18,
   "metadata": {},
   "outputs": [
    {
     "name": "stdout",
     "output_type": "stream",
     "text": [
      "Linear Regression RMSE on Train Data: 24.17886371729025\n",
      "Decision Tree RMSE on Train Data: 24.806514203951725\n",
      "Random Forest RMSE on Train Data: 9.211365420352834\n"
     ]
    }
   ],
   "source": [
    "# Расчет RMSE \n",
    "linear_regression_train_rmse = np.sqrt(linear_regression_train_mse)\n",
    "decision_tree_train_rmse = np.sqrt(decision_tree_train_mse)\n",
    "random_forest_train_rmse = np.sqrt(random_forest_train_mse)\n",
    "\n",
    "# Вывод результатов\n",
    "print('Linear Regression RMSE on Train Data:', linear_regression_train_rmse)\n",
    "print('Decision Tree RMSE on Train Data:', decision_tree_train_rmse)\n",
    "print('Random Forest RMSE on Train Data:', random_forest_train_rmse)"
   ]
  },
  {
   "cell_type": "markdown",
   "metadata": {},
   "source": [
    "Исходя из этих значений, наилучшей моделью является Случайный лес (Random Forest), так как она имеет наименьшее значение MSE. Это означает, что случайный лес демонстрирует лучшую предсказательную способность по сравнению с другими моделями в данной задаче. Используем ее для тестирования"
   ]
  },
  {
   "cell_type": "markdown",
   "metadata": {},
   "source": [
    "## Тестирование"
   ]
  },
  {
   "cell_type": "code",
   "execution_count": 19,
   "metadata": {},
   "outputs": [],
   "source": [
    "# Преобразование признаков\n",
    "X_test = test_df.drop('num_orders', axis=1)\n",
    "y_test = test_df['num_orders']\n"
   ]
  },
  {
   "cell_type": "code",
   "execution_count": 20,
   "metadata": {},
   "outputs": [],
   "source": [
    "# Создание модели случайного леса с лучшими гиперпараметрами\n",
    "best_random_forest = RandomForestRegressor(\n",
    "    max_depth=15,\n",
    "    min_samples_split=2,\n",
    "    n_estimators=200,\n",
    "    max_features='sqrt',\n",
    "    min_samples_leaf=2\n",
    ")\n",
    "\n",
    "# Обучение модели с лучшими гиперпараметрами на обучающей выборке\n",
    "best_random_forest.fit(X_train, y_train)\n",
    "\n",
    "# Получение предсказаний для тестовой выборки\n",
    "random_forest_predictions_test = best_random_forest.predict(X_test)\n",
    "\n",
    "# Расчет MSE на тестовой выборке\n",
    "random_forest_mse_test = mean_squared_error(y_test, random_forest_predictions_test)\n"
   ]
  },
  {
   "cell_type": "code",
   "execution_count": 21,
   "metadata": {},
   "outputs": [
    {
     "name": "stdout",
     "output_type": "stream",
     "text": [
      "Random Forest RMSE: 44.81986838521805\n"
     ]
    }
   ],
   "source": [
    "# Расчет RMSE на тестовой выборке для модели случайного леса\n",
    "random_forest_rmse_test = np.sqrt(random_forest_mse_test)\n",
    "\n",
    "# Вывод результатов\n",
    "print('Random Forest RMSE:', random_forest_rmse_test)"
   ]
  },
  {
   "cell_type": "markdown",
   "metadata": {},
   "source": [
    "На основе этого результата можно сделать вывод, что модель случайного леса достаточно точно предсказывает количество заказов в данной задаче."
   ]
  }
 ],
 "metadata": {
  "ExecuteTimeLog": [
   {
    "duration": 612,
    "start_time": "2023-06-08T18:08:27.335Z"
   },
   {
    "duration": 336,
    "start_time": "2023-06-08T18:08:59.059Z"
   },
   {
    "duration": 12,
    "start_time": "2023-06-08T18:09:01.711Z"
   },
   {
    "duration": 115,
    "start_time": "2023-06-08T18:09:02.000Z"
   },
   {
    "duration": 44,
    "start_time": "2023-06-08T18:10:18.965Z"
   },
   {
    "duration": 40,
    "start_time": "2023-06-08T18:10:43.764Z"
   },
   {
    "duration": 20,
    "start_time": "2023-06-08T18:11:08.786Z"
   },
   {
    "duration": 16,
    "start_time": "2023-06-08T18:11:23.124Z"
   },
   {
    "duration": 31,
    "start_time": "2023-06-08T18:12:02.137Z"
   },
   {
    "duration": 326,
    "start_time": "2023-06-08T18:14:54.702Z"
   },
   {
    "duration": 17,
    "start_time": "2023-06-08T18:15:45.198Z"
   },
   {
    "duration": 23,
    "start_time": "2023-06-08T18:15:49.005Z"
   },
   {
    "duration": 2297,
    "start_time": "2023-06-08T18:16:43.532Z"
   },
   {
    "duration": 680,
    "start_time": "2023-06-08T18:17:38.041Z"
   },
   {
    "duration": 59,
    "start_time": "2023-06-08T18:17:38.732Z"
   },
   {
    "duration": 25,
    "start_time": "2023-06-08T18:17:38.810Z"
   },
   {
    "duration": 51,
    "start_time": "2023-06-08T18:17:38.842Z"
   },
   {
    "duration": 73,
    "start_time": "2023-06-08T18:17:38.911Z"
   },
   {
    "duration": 80,
    "start_time": "2023-06-08T18:17:38.989Z"
   },
   {
    "duration": 40,
    "start_time": "2023-06-08T18:17:39.082Z"
   },
   {
    "duration": 48,
    "start_time": "2023-06-08T18:17:39.133Z"
   },
   {
    "duration": 1943,
    "start_time": "2023-06-08T18:22:27.099Z"
   },
   {
    "duration": 441,
    "start_time": "2023-06-08T18:23:33.093Z"
   },
   {
    "duration": 16,
    "start_time": "2023-06-08T18:24:29.244Z"
   },
   {
    "duration": 21,
    "start_time": "2023-06-08T18:25:17.254Z"
   },
   {
    "duration": 321,
    "start_time": "2023-06-08T18:25:44.673Z"
   },
   {
    "duration": 885,
    "start_time": "2023-06-08T18:26:05.368Z"
   },
   {
    "duration": 20,
    "start_time": "2023-06-08T18:27:23.685Z"
   },
   {
    "duration": 157,
    "start_time": "2023-06-08T18:37:39.727Z"
   },
   {
    "duration": 755,
    "start_time": "2023-06-08T18:37:55.277Z"
   },
   {
    "duration": 561,
    "start_time": "2023-06-08T18:38:14.678Z"
   },
   {
    "duration": 68,
    "start_time": "2023-06-08T18:42:18.204Z"
   },
   {
    "duration": 167,
    "start_time": "2023-06-08T18:43:01.694Z"
   },
   {
    "duration": 564,
    "start_time": "2023-06-08T18:47:05.121Z"
   },
   {
    "duration": 1977,
    "start_time": "2023-06-08T18:48:10.846Z"
   },
   {
    "duration": 148,
    "start_time": "2023-06-08T18:48:12.825Z"
   },
   {
    "duration": 21,
    "start_time": "2023-06-08T18:48:12.975Z"
   },
   {
    "duration": 17,
    "start_time": "2023-06-08T18:48:12.999Z"
   },
   {
    "duration": 14,
    "start_time": "2023-06-08T18:48:13.188Z"
   },
   {
    "duration": 10,
    "start_time": "2023-06-08T18:48:13.825Z"
   },
   {
    "duration": 28,
    "start_time": "2023-06-08T18:48:14.084Z"
   },
   {
    "duration": 12,
    "start_time": "2023-06-08T18:48:15.031Z"
   },
   {
    "duration": 829,
    "start_time": "2023-06-08T18:48:15.472Z"
   },
   {
    "duration": 565,
    "start_time": "2023-06-08T18:48:17.025Z"
   },
   {
    "duration": 725,
    "start_time": "2023-06-08T18:48:34.515Z"
   },
   {
    "duration": 2435,
    "start_time": "2023-06-08T18:51:20.636Z"
   },
   {
    "duration": 203,
    "start_time": "2023-06-08T18:52:26.621Z"
   },
   {
    "duration": 657,
    "start_time": "2023-06-08T18:55:01.819Z"
   },
   {
    "duration": 101,
    "start_time": "2023-06-08T18:57:32.232Z"
   },
   {
    "duration": 8,
    "start_time": "2023-06-08T18:59:36.488Z"
   },
   {
    "duration": 1901,
    "start_time": "2023-06-08T18:59:36.498Z"
   },
   {
    "duration": 1756,
    "start_time": "2023-06-08T18:59:44.228Z"
   },
   {
    "duration": 49,
    "start_time": "2023-06-08T18:59:45.986Z"
   },
   {
    "duration": 26,
    "start_time": "2023-06-08T18:59:46.037Z"
   },
   {
    "duration": 47,
    "start_time": "2023-06-08T18:59:46.065Z"
   },
   {
    "duration": 17,
    "start_time": "2023-06-08T18:59:46.115Z"
   },
   {
    "duration": 25,
    "start_time": "2023-06-08T18:59:46.134Z"
   },
   {
    "duration": 46,
    "start_time": "2023-06-08T18:59:46.166Z"
   },
   {
    "duration": 20,
    "start_time": "2023-06-08T18:59:46.213Z"
   },
   {
    "duration": 14,
    "start_time": "2023-06-08T18:59:46.235Z"
   },
   {
    "duration": 878,
    "start_time": "2023-06-08T18:59:46.251Z"
   },
   {
    "duration": 594,
    "start_time": "2023-06-08T18:59:47.131Z"
   },
   {
    "duration": 309,
    "start_time": "2023-06-08T18:59:47.727Z"
   },
   {
    "duration": 0,
    "start_time": "2023-06-08T18:59:48.038Z"
   },
   {
    "duration": 0,
    "start_time": "2023-06-08T18:59:48.047Z"
   },
   {
    "duration": 0,
    "start_time": "2023-06-08T18:59:48.049Z"
   },
   {
    "duration": 1993,
    "start_time": "2023-06-08T19:02:07.839Z"
   },
   {
    "duration": 77,
    "start_time": "2023-06-08T19:02:09.844Z"
   },
   {
    "duration": 55,
    "start_time": "2023-06-08T19:02:09.924Z"
   },
   {
    "duration": 88,
    "start_time": "2023-06-08T19:02:09.981Z"
   },
   {
    "duration": 149,
    "start_time": "2023-06-08T19:02:10.076Z"
   },
   {
    "duration": 94,
    "start_time": "2023-06-08T19:02:10.228Z"
   },
   {
    "duration": 95,
    "start_time": "2023-06-08T19:02:10.324Z"
   },
   {
    "duration": 17,
    "start_time": "2023-06-08T19:02:10.421Z"
   },
   {
    "duration": 1048,
    "start_time": "2023-06-08T19:02:10.441Z"
   },
   {
    "duration": 634,
    "start_time": "2023-06-08T19:02:11.493Z"
   },
   {
    "duration": 376,
    "start_time": "2023-06-08T19:02:12.129Z"
   },
   {
    "duration": 0,
    "start_time": "2023-06-08T19:02:12.511Z"
   },
   {
    "duration": 0,
    "start_time": "2023-06-08T19:02:12.512Z"
   },
   {
    "duration": 0,
    "start_time": "2023-06-08T19:02:12.512Z"
   },
   {
    "duration": 91,
    "start_time": "2023-06-08T19:03:28.341Z"
   },
   {
    "duration": 480,
    "start_time": "2023-06-08T19:04:52.072Z"
   },
   {
    "duration": 298,
    "start_time": "2023-06-08T19:06:57.329Z"
   },
   {
    "duration": 409,
    "start_time": "2023-06-08T19:08:04.111Z"
   },
   {
    "duration": 2194,
    "start_time": "2023-06-08T19:09:45.938Z"
   },
   {
    "duration": 1699,
    "start_time": "2023-06-08T19:17:27.993Z"
   },
   {
    "duration": 42,
    "start_time": "2023-06-08T19:17:29.695Z"
   },
   {
    "duration": 27,
    "start_time": "2023-06-08T19:17:29.739Z"
   },
   {
    "duration": 37,
    "start_time": "2023-06-08T19:17:29.768Z"
   },
   {
    "duration": 12,
    "start_time": "2023-06-08T19:17:29.806Z"
   },
   {
    "duration": 7,
    "start_time": "2023-06-08T19:17:29.820Z"
   },
   {
    "duration": 29,
    "start_time": "2023-06-08T19:17:29.829Z"
   },
   {
    "duration": 36,
    "start_time": "2023-06-08T19:17:29.860Z"
   },
   {
    "duration": 775,
    "start_time": "2023-06-08T19:17:29.898Z"
   },
   {
    "duration": 619,
    "start_time": "2023-06-08T19:17:30.676Z"
   },
   {
    "duration": 133,
    "start_time": "2023-06-08T19:17:31.298Z"
   },
   {
    "duration": 0,
    "start_time": "2023-06-08T19:17:31.441Z"
   },
   {
    "duration": 0,
    "start_time": "2023-06-08T19:17:31.443Z"
   },
   {
    "duration": 24,
    "start_time": "2023-06-08T19:21:06.337Z"
   },
   {
    "duration": 1807,
    "start_time": "2023-06-08T19:22:12.805Z"
   },
   {
    "duration": 11,
    "start_time": "2023-06-08T19:23:32.700Z"
   },
   {
    "duration": 10,
    "start_time": "2023-06-08T19:23:37.968Z"
   },
   {
    "duration": 9,
    "start_time": "2023-06-08T19:25:02.763Z"
   },
   {
    "duration": 526,
    "start_time": "2023-06-08T19:25:03.199Z"
   },
   {
    "duration": 5121,
    "start_time": "2023-06-08T19:31:09.915Z"
   },
   {
    "duration": 74,
    "start_time": "2023-06-08T19:31:15.039Z"
   },
   {
    "duration": 30,
    "start_time": "2023-06-08T19:31:15.116Z"
   },
   {
    "duration": 59,
    "start_time": "2023-06-08T19:31:15.148Z"
   },
   {
    "duration": 24,
    "start_time": "2023-06-08T19:31:15.210Z"
   },
   {
    "duration": 14,
    "start_time": "2023-06-08T19:31:15.235Z"
   },
   {
    "duration": 65,
    "start_time": "2023-06-08T19:31:15.251Z"
   },
   {
    "duration": 15,
    "start_time": "2023-06-08T19:31:15.320Z"
   },
   {
    "duration": 964,
    "start_time": "2023-06-08T19:31:15.337Z"
   },
   {
    "duration": 634,
    "start_time": "2023-06-08T19:31:16.306Z"
   },
   {
    "duration": 15,
    "start_time": "2023-06-08T19:31:16.948Z"
   },
   {
    "duration": 249,
    "start_time": "2023-06-08T19:31:16.967Z"
   },
   {
    "duration": 0,
    "start_time": "2023-06-08T19:31:17.218Z"
   },
   {
    "duration": 0,
    "start_time": "2023-06-08T19:31:17.219Z"
   },
   {
    "duration": 1995,
    "start_time": "2023-06-08T19:33:53.870Z"
   },
   {
    "duration": 64,
    "start_time": "2023-06-08T19:33:55.868Z"
   },
   {
    "duration": 17,
    "start_time": "2023-06-08T19:33:55.934Z"
   },
   {
    "duration": 66,
    "start_time": "2023-06-08T19:33:55.953Z"
   },
   {
    "duration": 16,
    "start_time": "2023-06-08T19:33:56.021Z"
   },
   {
    "duration": 27,
    "start_time": "2023-06-08T19:33:56.040Z"
   },
   {
    "duration": 54,
    "start_time": "2023-06-08T19:33:56.070Z"
   },
   {
    "duration": 52,
    "start_time": "2023-06-08T19:33:56.126Z"
   },
   {
    "duration": 978,
    "start_time": "2023-06-08T19:33:56.180Z"
   },
   {
    "duration": 737,
    "start_time": "2023-06-08T19:33:57.162Z"
   },
   {
    "duration": 8,
    "start_time": "2023-06-08T19:33:57.901Z"
   },
   {
    "duration": 373,
    "start_time": "2023-06-08T19:33:57.911Z"
   },
   {
    "duration": 0,
    "start_time": "2023-06-08T19:33:58.292Z"
   },
   {
    "duration": 0,
    "start_time": "2023-06-08T19:33:58.293Z"
   },
   {
    "duration": 0,
    "start_time": "2023-06-08T19:33:58.294Z"
   },
   {
    "duration": 2171,
    "start_time": "2023-06-10T13:51:18.420Z"
   },
   {
    "duration": 233,
    "start_time": "2023-06-10T13:51:20.594Z"
   },
   {
    "duration": 15,
    "start_time": "2023-06-10T13:51:20.846Z"
   },
   {
    "duration": 36,
    "start_time": "2023-06-10T13:51:20.862Z"
   },
   {
    "duration": 56,
    "start_time": "2023-06-10T13:51:20.900Z"
   },
   {
    "duration": 8,
    "start_time": "2023-06-10T13:51:20.958Z"
   },
   {
    "duration": 94,
    "start_time": "2023-06-10T13:51:20.968Z"
   },
   {
    "duration": 11,
    "start_time": "2023-06-10T13:51:21.064Z"
   },
   {
    "duration": 896,
    "start_time": "2023-06-10T13:51:21.076Z"
   },
   {
    "duration": 680,
    "start_time": "2023-06-10T13:51:21.974Z"
   },
   {
    "duration": 7,
    "start_time": "2023-06-10T13:51:22.656Z"
   },
   {
    "duration": 23,
    "start_time": "2023-06-10T13:51:22.665Z"
   },
   {
    "duration": 251,
    "start_time": "2023-06-10T13:51:22.690Z"
   },
   {
    "duration": 0,
    "start_time": "2023-06-10T13:51:22.943Z"
   },
   {
    "duration": 0,
    "start_time": "2023-06-10T13:51:22.946Z"
   },
   {
    "duration": 0,
    "start_time": "2023-06-10T13:51:22.948Z"
   },
   {
    "duration": 1387,
    "start_time": "2023-06-10T13:54:40.264Z"
   },
   {
    "duration": 2387,
    "start_time": "2023-06-10T13:54:50.873Z"
   },
   {
    "duration": 95,
    "start_time": "2023-06-10T13:54:53.263Z"
   },
   {
    "duration": 13,
    "start_time": "2023-06-10T13:54:53.360Z"
   },
   {
    "duration": 72,
    "start_time": "2023-06-10T13:54:53.375Z"
   },
   {
    "duration": 13,
    "start_time": "2023-06-10T13:54:53.450Z"
   },
   {
    "duration": 8,
    "start_time": "2023-06-10T13:54:53.464Z"
   },
   {
    "duration": 81,
    "start_time": "2023-06-10T13:54:53.473Z"
   },
   {
    "duration": 68,
    "start_time": "2023-06-10T13:54:53.557Z"
   },
   {
    "duration": 649,
    "start_time": "2023-06-10T13:54:53.627Z"
   },
   {
    "duration": 569,
    "start_time": "2023-06-10T13:54:54.277Z"
   },
   {
    "duration": 5,
    "start_time": "2023-06-10T13:54:54.848Z"
   },
   {
    "duration": 1441,
    "start_time": "2023-06-10T13:54:54.855Z"
   },
   {
    "duration": 5,
    "start_time": "2023-06-10T13:56:47.518Z"
   },
   {
    "duration": 2064,
    "start_time": "2023-06-10T13:57:03.489Z"
   },
   {
    "duration": 44,
    "start_time": "2023-06-10T13:57:05.555Z"
   },
   {
    "duration": 53,
    "start_time": "2023-06-10T13:57:05.601Z"
   },
   {
    "duration": 10,
    "start_time": "2023-06-10T13:57:05.656Z"
   },
   {
    "duration": 81,
    "start_time": "2023-06-10T13:57:05.670Z"
   },
   {
    "duration": 9,
    "start_time": "2023-06-10T13:57:05.753Z"
   },
   {
    "duration": 26,
    "start_time": "2023-06-10T13:57:05.763Z"
   },
   {
    "duration": 76,
    "start_time": "2023-06-10T13:57:05.791Z"
   },
   {
    "duration": 883,
    "start_time": "2023-06-10T13:57:05.869Z"
   },
   {
    "duration": 567,
    "start_time": "2023-06-10T13:57:06.754Z"
   },
   {
    "duration": 4,
    "start_time": "2023-06-10T13:57:07.323Z"
   },
   {
    "duration": 56,
    "start_time": "2023-06-10T13:57:07.329Z"
   },
   {
    "duration": 4,
    "start_time": "2023-06-10T14:01:46.047Z"
   },
   {
    "duration": 58,
    "start_time": "2023-06-10T14:01:46.053Z"
   },
   {
    "duration": 13,
    "start_time": "2023-06-10T14:01:46.135Z"
   },
   {
    "duration": 21,
    "start_time": "2023-06-10T14:01:46.150Z"
   },
   {
    "duration": 27,
    "start_time": "2023-06-10T14:01:46.173Z"
   },
   {
    "duration": 21,
    "start_time": "2023-06-10T14:01:46.202Z"
   },
   {
    "duration": 33,
    "start_time": "2023-06-10T14:01:46.225Z"
   },
   {
    "duration": 23,
    "start_time": "2023-06-10T14:01:46.260Z"
   },
   {
    "duration": 677,
    "start_time": "2023-06-10T14:01:46.284Z"
   },
   {
    "duration": 545,
    "start_time": "2023-06-10T14:01:46.963Z"
   },
   {
    "duration": 5,
    "start_time": "2023-06-10T14:01:47.510Z"
   },
   {
    "duration": 67,
    "start_time": "2023-06-10T14:01:47.516Z"
   },
   {
    "duration": 126,
    "start_time": "2023-06-10T14:01:47.586Z"
   },
   {
    "duration": 0,
    "start_time": "2023-06-10T14:01:47.714Z"
   },
   {
    "duration": 0,
    "start_time": "2023-06-10T14:01:47.715Z"
   },
   {
    "duration": 8,
    "start_time": "2023-06-10T14:04:54.018Z"
   },
   {
    "duration": 5,
    "start_time": "2023-06-10T14:06:54.335Z"
   },
   {
    "duration": 5,
    "start_time": "2023-06-10T14:06:56.280Z"
   },
   {
    "duration": 68,
    "start_time": "2023-06-10T14:06:56.288Z"
   },
   {
    "duration": 17,
    "start_time": "2023-06-10T14:06:56.358Z"
   },
   {
    "duration": 27,
    "start_time": "2023-06-10T14:06:56.378Z"
   },
   {
    "duration": 49,
    "start_time": "2023-06-10T14:06:56.407Z"
   },
   {
    "duration": 8,
    "start_time": "2023-06-10T14:06:56.458Z"
   },
   {
    "duration": 27,
    "start_time": "2023-06-10T14:06:56.468Z"
   },
   {
    "duration": 31,
    "start_time": "2023-06-10T14:06:56.498Z"
   },
   {
    "duration": 644,
    "start_time": "2023-06-10T14:06:56.532Z"
   },
   {
    "duration": 576,
    "start_time": "2023-06-10T14:06:57.180Z"
   },
   {
    "duration": 5,
    "start_time": "2023-06-10T14:06:57.758Z"
   },
   {
    "duration": 73,
    "start_time": "2023-06-10T14:06:57.765Z"
   },
   {
    "duration": 7,
    "start_time": "2023-06-10T14:06:57.840Z"
   },
   {
    "duration": 197,
    "start_time": "2023-06-10T14:06:57.849Z"
   },
   {
    "duration": 211,
    "start_time": "2023-06-10T14:06:58.050Z"
   },
   {
    "duration": 8447,
    "start_time": "2023-06-10T14:06:58.263Z"
   },
   {
    "duration": 5,
    "start_time": "2023-06-10T14:10:32.106Z"
   },
   {
    "duration": 122,
    "start_time": "2023-06-10T14:10:32.114Z"
   },
   {
    "duration": 15,
    "start_time": "2023-06-10T14:10:32.239Z"
   },
   {
    "duration": 19,
    "start_time": "2023-06-10T14:10:32.257Z"
   },
   {
    "duration": 32,
    "start_time": "2023-06-10T14:10:32.279Z"
   },
   {
    "duration": 15,
    "start_time": "2023-06-10T14:10:32.313Z"
   },
   {
    "duration": 35,
    "start_time": "2023-06-10T14:10:32.330Z"
   },
   {
    "duration": 26,
    "start_time": "2023-06-10T14:10:32.369Z"
   },
   {
    "duration": 1278,
    "start_time": "2023-06-10T14:10:32.397Z"
   },
   {
    "duration": 1276,
    "start_time": "2023-06-10T14:10:33.677Z"
   },
   {
    "duration": 5,
    "start_time": "2023-06-10T14:10:34.955Z"
   },
   {
    "duration": 110,
    "start_time": "2023-06-10T14:10:34.961Z"
   },
   {
    "duration": 183,
    "start_time": "2023-06-10T14:10:35.073Z"
   },
   {
    "duration": 284,
    "start_time": "2023-06-10T14:10:35.267Z"
   },
   {
    "duration": 7579,
    "start_time": "2023-06-10T14:10:35.554Z"
   },
   {
    "duration": 31504,
    "start_time": "2023-06-10T14:10:43.136Z"
   },
   {
    "duration": 3,
    "start_time": "2023-06-10T14:11:52.129Z"
   },
   {
    "duration": 42,
    "start_time": "2023-06-10T14:11:53.103Z"
   },
   {
    "duration": 29852,
    "start_time": "2023-06-10T14:12:05.021Z"
   },
   {
    "duration": 21,
    "start_time": "2023-06-10T14:15:33.195Z"
   },
   {
    "duration": 13,
    "start_time": "2023-06-11T16:48:54.597Z"
   },
   {
    "duration": 3001,
    "start_time": "2023-06-11T16:52:07.553Z"
   },
   {
    "duration": 270,
    "start_time": "2023-06-11T16:52:10.558Z"
   },
   {
    "duration": 37,
    "start_time": "2023-06-11T16:52:10.830Z"
   },
   {
    "duration": 29,
    "start_time": "2023-06-11T16:52:10.875Z"
   },
   {
    "duration": 26,
    "start_time": "2023-06-11T16:52:10.928Z"
   },
   {
    "duration": 18,
    "start_time": "2023-06-11T16:52:10.956Z"
   },
   {
    "duration": 85,
    "start_time": "2023-06-11T16:52:10.976Z"
   },
   {
    "duration": 23,
    "start_time": "2023-06-11T16:52:11.073Z"
   },
   {
    "duration": 1739,
    "start_time": "2023-06-11T16:52:11.102Z"
   },
   {
    "duration": 1585,
    "start_time": "2023-06-11T16:52:12.843Z"
   },
   {
    "duration": 15,
    "start_time": "2023-06-11T16:52:14.442Z"
   },
   {
    "duration": 173,
    "start_time": "2023-06-11T16:52:14.459Z"
   },
   {
    "duration": 515,
    "start_time": "2023-06-11T16:52:14.635Z"
   },
   {
    "duration": 187,
    "start_time": "2023-06-11T16:52:15.167Z"
   },
   {
    "duration": 11352,
    "start_time": "2023-06-11T16:52:15.356Z"
   },
   {
    "duration": 40773,
    "start_time": "2023-06-11T16:52:26.710Z"
   },
   {
    "duration": 42,
    "start_time": "2023-06-11T16:53:07.486Z"
   },
   {
    "duration": 6,
    "start_time": "2023-06-11T16:54:06.791Z"
   },
   {
    "duration": 5,
    "start_time": "2023-06-11T16:55:14.612Z"
   },
   {
    "duration": 80,
    "start_time": "2023-06-11T16:55:14.620Z"
   },
   {
    "duration": 17,
    "start_time": "2023-06-11T16:55:14.703Z"
   },
   {
    "duration": 31,
    "start_time": "2023-06-11T16:55:14.723Z"
   },
   {
    "duration": 15,
    "start_time": "2023-06-11T16:55:14.760Z"
   },
   {
    "duration": 10,
    "start_time": "2023-06-11T16:55:14.776Z"
   },
   {
    "duration": 22,
    "start_time": "2023-06-11T16:55:14.788Z"
   },
   {
    "duration": 17,
    "start_time": "2023-06-11T16:55:14.812Z"
   },
   {
    "duration": 704,
    "start_time": "2023-06-11T16:55:14.833Z"
   },
   {
    "duration": 1310,
    "start_time": "2023-06-11T16:55:15.540Z"
   },
   {
    "duration": 8,
    "start_time": "2023-06-11T16:55:16.853Z"
   },
   {
    "duration": 164,
    "start_time": "2023-06-11T16:55:16.864Z"
   },
   {
    "duration": 219,
    "start_time": "2023-06-11T16:55:17.031Z"
   },
   {
    "duration": 215,
    "start_time": "2023-06-11T16:55:17.254Z"
   },
   {
    "duration": 9268,
    "start_time": "2023-06-11T16:55:17.471Z"
   },
   {
    "duration": 23027,
    "start_time": "2023-06-11T16:55:26.746Z"
   },
   {
    "duration": 35,
    "start_time": "2023-06-11T16:55:49.783Z"
   },
   {
    "duration": 5,
    "start_time": "2023-06-11T16:59:00.966Z"
   },
   {
    "duration": 209,
    "start_time": "2023-06-11T17:00:17.602Z"
   },
   {
    "duration": 2788,
    "start_time": "2023-06-11T17:04:56.749Z"
   },
   {
    "duration": 135,
    "start_time": "2023-06-11T17:04:59.541Z"
   },
   {
    "duration": 18,
    "start_time": "2023-06-11T17:04:59.680Z"
   },
   {
    "duration": 44,
    "start_time": "2023-06-11T17:04:59.700Z"
   },
   {
    "duration": 35,
    "start_time": "2023-06-11T17:04:59.747Z"
   },
   {
    "duration": 24,
    "start_time": "2023-06-11T17:04:59.835Z"
   },
   {
    "duration": 69,
    "start_time": "2023-06-11T17:04:59.864Z"
   },
   {
    "duration": 34,
    "start_time": "2023-06-11T17:04:59.936Z"
   },
   {
    "duration": 1090,
    "start_time": "2023-06-11T17:04:59.973Z"
   },
   {
    "duration": 616,
    "start_time": "2023-06-11T17:05:01.067Z"
   },
   {
    "duration": 5,
    "start_time": "2023-06-11T17:05:01.686Z"
   },
   {
    "duration": 276,
    "start_time": "2023-06-11T17:05:01.694Z"
   },
   {
    "duration": 763,
    "start_time": "2023-06-11T17:05:01.972Z"
   },
   {
    "duration": 306,
    "start_time": "2023-06-11T17:05:02.745Z"
   },
   {
    "duration": 0,
    "start_time": "2023-06-11T17:05:03.053Z"
   },
   {
    "duration": 16,
    "start_time": "2023-06-11T17:06:26.599Z"
   },
   {
    "duration": 16,
    "start_time": "2023-06-11T17:06:28.661Z"
   },
   {
    "duration": 100,
    "start_time": "2023-06-11T17:06:28.680Z"
   },
   {
    "duration": 16,
    "start_time": "2023-06-11T17:06:28.783Z"
   },
   {
    "duration": 14,
    "start_time": "2023-06-11T17:06:28.801Z"
   },
   {
    "duration": 34,
    "start_time": "2023-06-11T17:06:28.818Z"
   },
   {
    "duration": 19,
    "start_time": "2023-06-11T17:06:28.857Z"
   },
   {
    "duration": 23,
    "start_time": "2023-06-11T17:06:28.879Z"
   },
   {
    "duration": 12,
    "start_time": "2023-06-11T17:06:28.906Z"
   },
   {
    "duration": 748,
    "start_time": "2023-06-11T17:06:28.927Z"
   },
   {
    "duration": 1175,
    "start_time": "2023-06-11T17:06:29.681Z"
   },
   {
    "duration": 14,
    "start_time": "2023-06-11T17:06:30.867Z"
   },
   {
    "duration": 216,
    "start_time": "2023-06-11T17:06:30.884Z"
   },
   {
    "duration": 472,
    "start_time": "2023-06-11T17:06:31.103Z"
   },
   {
    "duration": 184,
    "start_time": "2023-06-11T17:06:31.579Z"
   },
   {
    "duration": 0,
    "start_time": "2023-06-11T17:06:31.767Z"
   },
   {
    "duration": 6444,
    "start_time": "2023-06-11T17:07:19.386Z"
   },
   {
    "duration": 49,
    "start_time": "2023-06-11T17:08:19.613Z"
   },
   {
    "duration": 2903,
    "start_time": "2023-06-11T17:09:43.246Z"
   },
   {
    "duration": 105,
    "start_time": "2023-06-11T17:09:46.155Z"
   },
   {
    "duration": 87,
    "start_time": "2023-06-11T17:09:46.262Z"
   },
   {
    "duration": 28,
    "start_time": "2023-06-11T17:09:46.362Z"
   },
   {
    "duration": 58,
    "start_time": "2023-06-11T17:09:46.393Z"
   },
   {
    "duration": 15,
    "start_time": "2023-06-11T17:09:46.459Z"
   },
   {
    "duration": 28,
    "start_time": "2023-06-11T17:09:46.476Z"
   },
   {
    "duration": 18,
    "start_time": "2023-06-11T17:09:46.526Z"
   },
   {
    "duration": 921,
    "start_time": "2023-06-11T17:09:46.546Z"
   },
   {
    "duration": 751,
    "start_time": "2023-06-11T17:09:47.470Z"
   },
   {
    "duration": 6,
    "start_time": "2023-06-11T17:09:48.226Z"
   },
   {
    "duration": 167,
    "start_time": "2023-06-11T17:09:48.235Z"
   },
   {
    "duration": 335,
    "start_time": "2023-06-11T17:09:48.404Z"
   },
   {
    "duration": 3534,
    "start_time": "2023-06-11T17:09:48.766Z"
   },
   {
    "duration": 0,
    "start_time": "2023-06-11T17:09:52.303Z"
   },
   {
    "duration": 11,
    "start_time": "2023-06-11T17:11:09.635Z"
   },
   {
    "duration": 85,
    "start_time": "2023-06-11T17:11:09.651Z"
   },
   {
    "duration": 19,
    "start_time": "2023-06-11T17:11:09.739Z"
   },
   {
    "duration": 14,
    "start_time": "2023-06-11T17:11:09.761Z"
   },
   {
    "duration": 22,
    "start_time": "2023-06-11T17:11:09.779Z"
   },
   {
    "duration": 27,
    "start_time": "2023-06-11T17:11:09.804Z"
   },
   {
    "duration": 38,
    "start_time": "2023-06-11T17:11:09.837Z"
   },
   {
    "duration": 15,
    "start_time": "2023-06-11T17:11:09.883Z"
   },
   {
    "duration": 1184,
    "start_time": "2023-06-11T17:11:09.900Z"
   },
   {
    "duration": 1454,
    "start_time": "2023-06-11T17:11:11.087Z"
   },
   {
    "duration": 17,
    "start_time": "2023-06-11T17:11:12.543Z"
   },
   {
    "duration": 86,
    "start_time": "2023-06-11T17:11:12.569Z"
   },
   {
    "duration": 494,
    "start_time": "2023-06-11T17:11:12.657Z"
   },
   {
    "duration": 2480,
    "start_time": "2023-06-11T17:18:00.294Z"
   },
   {
    "duration": 74,
    "start_time": "2023-06-11T17:18:02.776Z"
   },
   {
    "duration": 19,
    "start_time": "2023-06-11T17:18:02.852Z"
   },
   {
    "duration": 119,
    "start_time": "2023-06-11T17:18:02.873Z"
   },
   {
    "duration": 74,
    "start_time": "2023-06-11T17:18:02.996Z"
   },
   {
    "duration": 27,
    "start_time": "2023-06-11T17:18:03.072Z"
   },
   {
    "duration": 64,
    "start_time": "2023-06-11T17:18:03.101Z"
   },
   {
    "duration": 65,
    "start_time": "2023-06-11T17:18:03.168Z"
   },
   {
    "duration": 1551,
    "start_time": "2023-06-11T17:18:03.236Z"
   },
   {
    "duration": 684,
    "start_time": "2023-06-11T17:18:04.789Z"
   },
   {
    "duration": 7,
    "start_time": "2023-06-11T17:18:05.478Z"
   },
   {
    "duration": 190,
    "start_time": "2023-06-11T17:18:05.488Z"
   },
   {
    "duration": 357,
    "start_time": "2023-06-11T17:18:05.680Z"
   },
   {
    "duration": 1684,
    "start_time": "2023-06-11T18:25:10.009Z"
   },
   {
    "duration": 254,
    "start_time": "2023-06-11T18:25:11.695Z"
   },
   {
    "duration": 11,
    "start_time": "2023-06-11T18:25:11.951Z"
   },
   {
    "duration": 9,
    "start_time": "2023-06-11T18:25:11.964Z"
   },
   {
    "duration": 10,
    "start_time": "2023-06-11T18:25:11.975Z"
   },
   {
    "duration": 6,
    "start_time": "2023-06-11T18:25:11.986Z"
   },
   {
    "duration": 19,
    "start_time": "2023-06-11T18:25:11.993Z"
   },
   {
    "duration": 27,
    "start_time": "2023-06-11T18:25:12.014Z"
   },
   {
    "duration": 672,
    "start_time": "2023-06-11T18:25:12.042Z"
   },
   {
    "duration": 532,
    "start_time": "2023-06-11T18:25:12.717Z"
   },
   {
    "duration": 5,
    "start_time": "2023-06-11T18:25:13.251Z"
   },
   {
    "duration": 41,
    "start_time": "2023-06-11T18:25:13.257Z"
   },
   {
    "duration": 54,
    "start_time": "2023-06-11T18:25:13.300Z"
   },
   {
    "duration": 1772,
    "start_time": "2023-06-12T11:59:50.333Z"
   },
   {
    "duration": 112,
    "start_time": "2023-06-12T11:59:52.107Z"
   },
   {
    "duration": 21,
    "start_time": "2023-06-12T11:59:52.220Z"
   },
   {
    "duration": 35,
    "start_time": "2023-06-12T11:59:52.244Z"
   },
   {
    "duration": 39,
    "start_time": "2023-06-12T11:59:52.281Z"
   },
   {
    "duration": 38,
    "start_time": "2023-06-12T11:59:52.321Z"
   },
   {
    "duration": 38,
    "start_time": "2023-06-12T11:59:52.361Z"
   },
   {
    "duration": 17,
    "start_time": "2023-06-12T11:59:52.400Z"
   },
   {
    "duration": 816,
    "start_time": "2023-06-12T11:59:52.419Z"
   },
   {
    "duration": 577,
    "start_time": "2023-06-12T11:59:53.239Z"
   },
   {
    "duration": 18,
    "start_time": "2023-06-12T11:59:53.817Z"
   },
   {
    "duration": 79,
    "start_time": "2023-06-12T11:59:53.836Z"
   },
   {
    "duration": 235,
    "start_time": "2023-06-12T11:59:53.916Z"
   },
   {
    "duration": 1634769,
    "start_time": "2023-06-12T11:59:54.226Z"
   },
   {
    "duration": 148,
    "start_time": "2023-06-12T12:27:08.997Z"
   },
   {
    "duration": 8,
    "start_time": "2023-06-12T12:27:09.147Z"
   },
   {
    "duration": 1904,
    "start_time": "2023-06-12T18:06:42.204Z"
   },
   {
    "duration": 165,
    "start_time": "2023-06-12T18:06:44.151Z"
   },
   {
    "duration": 44,
    "start_time": "2023-06-12T18:06:44.318Z"
   },
   {
    "duration": 11,
    "start_time": "2023-06-12T18:06:44.364Z"
   },
   {
    "duration": 11,
    "start_time": "2023-06-12T18:06:44.378Z"
   },
   {
    "duration": 62,
    "start_time": "2023-06-12T18:06:44.391Z"
   },
   {
    "duration": 21,
    "start_time": "2023-06-12T18:06:44.455Z"
   },
   {
    "duration": 8,
    "start_time": "2023-06-12T18:06:44.479Z"
   },
   {
    "duration": 931,
    "start_time": "2023-06-12T18:06:44.489Z"
   },
   {
    "duration": 558,
    "start_time": "2023-06-12T18:06:45.422Z"
   },
   {
    "duration": 4,
    "start_time": "2023-06-12T18:06:45.981Z"
   },
   {
    "duration": 63,
    "start_time": "2023-06-12T18:06:45.987Z"
   },
   {
    "duration": 100,
    "start_time": "2023-06-12T18:06:46.052Z"
   },
   {
    "duration": 1573007,
    "start_time": "2023-06-12T18:06:46.155Z"
   },
   {
    "duration": 36,
    "start_time": "2023-06-12T18:32:59.166Z"
   },
   {
    "duration": 4,
    "start_time": "2023-06-12T18:32:59.204Z"
   },
   {
    "duration": 163,
    "start_time": "2023-06-12T18:40:41.616Z"
   },
   {
    "duration": 290,
    "start_time": "2023-06-12T18:41:17.519Z"
   },
   {
    "duration": 326,
    "start_time": "2023-06-12T18:41:34.535Z"
   },
   {
    "duration": 46,
    "start_time": "2023-06-12T18:41:39.673Z"
   },
   {
    "duration": 5,
    "start_time": "2023-06-12T18:41:39.911Z"
   },
   {
    "duration": 4,
    "start_time": "2023-06-12T18:43:56.773Z"
   },
   {
    "duration": 54,
    "start_time": "2023-06-12T18:43:57.015Z"
   },
   {
    "duration": 2620,
    "start_time": "2023-06-12T18:45:47.472Z"
   },
   {
    "duration": 3,
    "start_time": "2023-06-12T18:48:13.003Z"
   },
   {
    "duration": 18156,
    "start_time": "2023-06-12T18:48:18.841Z"
   },
   {
    "duration": 246,
    "start_time": "2023-06-12T19:54:50.576Z"
   },
   {
    "duration": 154813,
    "start_time": "2023-06-12T19:59:11.867Z"
   },
   {
    "duration": 158881,
    "start_time": "2023-06-12T20:05:23.355Z"
   },
   {
    "duration": 1544,
    "start_time": "2023-06-12T20:28:57.318Z"
   },
   {
    "duration": 53,
    "start_time": "2023-06-12T20:28:58.865Z"
   },
   {
    "duration": 15,
    "start_time": "2023-06-12T20:28:58.919Z"
   },
   {
    "duration": 12,
    "start_time": "2023-06-12T20:28:58.936Z"
   },
   {
    "duration": 32,
    "start_time": "2023-06-12T20:28:58.952Z"
   },
   {
    "duration": 8,
    "start_time": "2023-06-12T20:28:58.986Z"
   },
   {
    "duration": 18,
    "start_time": "2023-06-12T20:28:58.996Z"
   },
   {
    "duration": 8,
    "start_time": "2023-06-12T20:28:59.016Z"
   },
   {
    "duration": 714,
    "start_time": "2023-06-12T20:28:59.026Z"
   },
   {
    "duration": 592,
    "start_time": "2023-06-12T20:28:59.742Z"
   },
   {
    "duration": 6,
    "start_time": "2023-06-12T20:29:00.336Z"
   },
   {
    "duration": 67,
    "start_time": "2023-06-12T20:29:00.349Z"
   },
   {
    "duration": 663,
    "start_time": "2023-06-12T20:29:00.418Z"
   },
   {
    "duration": 1649692,
    "start_time": "2023-06-12T20:29:01.083Z"
   },
   {
    "duration": 30985,
    "start_time": "2023-06-12T20:56:30.777Z"
   },
   {
    "duration": 3,
    "start_time": "2023-06-12T20:57:01.763Z"
   },
   {
    "duration": 23654,
    "start_time": "2023-06-12T20:57:01.770Z"
   },
   {
    "duration": 2099,
    "start_time": "2023-06-13T20:13:57.204Z"
   },
   {
    "duration": 163,
    "start_time": "2023-06-13T20:13:59.305Z"
   },
   {
    "duration": 14,
    "start_time": "2023-06-13T20:13:59.470Z"
   },
   {
    "duration": 14,
    "start_time": "2023-06-13T20:13:59.486Z"
   },
   {
    "duration": 17,
    "start_time": "2023-06-13T20:13:59.502Z"
   },
   {
    "duration": 8,
    "start_time": "2023-06-13T20:13:59.520Z"
   },
   {
    "duration": 33,
    "start_time": "2023-06-13T20:13:59.530Z"
   },
   {
    "duration": 10,
    "start_time": "2023-06-13T20:13:59.565Z"
   },
   {
    "duration": 758,
    "start_time": "2023-06-13T20:13:59.577Z"
   },
   {
    "duration": 591,
    "start_time": "2023-06-13T20:14:00.338Z"
   },
   {
    "duration": 4,
    "start_time": "2023-06-13T20:14:00.931Z"
   },
   {
    "duration": 144,
    "start_time": "2023-06-13T20:14:00.937Z"
   },
   {
    "duration": 73,
    "start_time": "2023-06-13T20:14:01.083Z"
   },
   {
    "duration": 1524714,
    "start_time": "2023-06-13T20:14:01.159Z"
   },
   {
    "duration": 4,
    "start_time": "2023-06-13T20:39:25.875Z"
   },
   {
    "duration": 10031,
    "start_time": "2023-06-13T20:39:25.881Z"
   },
   {
    "duration": 5,
    "start_time": "2023-06-13T20:39:35.914Z"
   },
   {
    "duration": 2922,
    "start_time": "2023-06-13T20:39:35.922Z"
   },
   {
    "duration": 3,
    "start_time": "2023-06-13T20:39:38.847Z"
   },
   {
    "duration": 48,
    "start_time": "2023-06-14T07:20:33.679Z"
   },
   {
    "duration": 1888,
    "start_time": "2023-06-14T11:14:22.331Z"
   },
   {
    "duration": 96,
    "start_time": "2023-06-14T11:14:24.222Z"
   },
   {
    "duration": 13,
    "start_time": "2023-06-14T11:14:24.320Z"
   },
   {
    "duration": 21,
    "start_time": "2023-06-14T11:14:24.335Z"
   },
   {
    "duration": 14,
    "start_time": "2023-06-14T11:14:24.360Z"
   },
   {
    "duration": 10,
    "start_time": "2023-06-14T11:14:24.376Z"
   },
   {
    "duration": 19,
    "start_time": "2023-06-14T11:14:24.388Z"
   },
   {
    "duration": 9,
    "start_time": "2023-06-14T11:14:24.409Z"
   },
   {
    "duration": 702,
    "start_time": "2023-06-14T11:14:24.419Z"
   },
   {
    "duration": 641,
    "start_time": "2023-06-14T11:14:25.124Z"
   },
   {
    "duration": 4,
    "start_time": "2023-06-14T11:14:26.189Z"
   },
   {
    "duration": 37,
    "start_time": "2023-06-14T11:14:31.146Z"
   },
   {
    "duration": 32,
    "start_time": "2023-06-14T11:14:34.394Z"
   },
   {
    "duration": 1776,
    "start_time": "2023-06-14T12:15:48.246Z"
   },
   {
    "duration": 42,
    "start_time": "2023-06-14T12:15:50.024Z"
   },
   {
    "duration": 11,
    "start_time": "2023-06-14T12:15:50.068Z"
   },
   {
    "duration": 15,
    "start_time": "2023-06-14T12:15:50.081Z"
   },
   {
    "duration": 21,
    "start_time": "2023-06-14T12:15:50.099Z"
   },
   {
    "duration": 14,
    "start_time": "2023-06-14T12:15:50.122Z"
   },
   {
    "duration": 41,
    "start_time": "2023-06-14T12:15:50.138Z"
   },
   {
    "duration": 15,
    "start_time": "2023-06-14T12:15:50.181Z"
   },
   {
    "duration": 627,
    "start_time": "2023-06-14T12:15:50.197Z"
   },
   {
    "duration": 526,
    "start_time": "2023-06-14T12:15:50.826Z"
   },
   {
    "duration": 4,
    "start_time": "2023-06-14T12:15:51.353Z"
   },
   {
    "duration": 39,
    "start_time": "2023-06-14T12:15:51.359Z"
   },
   {
    "duration": 21,
    "start_time": "2023-06-14T12:15:51.400Z"
   },
   {
    "duration": 52,
    "start_time": "2023-06-14T12:15:51.424Z"
   },
   {
    "duration": 1407250,
    "start_time": "2023-06-14T12:15:51.477Z"
   },
   {
    "duration": 3,
    "start_time": "2023-06-14T12:39:18.729Z"
   },
   {
    "duration": 22832,
    "start_time": "2023-06-14T12:39:18.734Z"
   },
   {
    "duration": 5,
    "start_time": "2023-06-14T12:39:41.568Z"
   },
   {
    "duration": 11,
    "start_time": "2023-06-14T12:39:41.575Z"
   },
   {
    "duration": 2267,
    "start_time": "2023-06-14T12:39:41.588Z"
   },
   {
    "duration": 3,
    "start_time": "2023-06-14T12:39:43.857Z"
   }
  ],
  "kernelspec": {
   "display_name": "Python 3 (ipykernel)",
   "language": "python",
   "name": "python3"
  },
  "language_info": {
   "codemirror_mode": {
    "name": "ipython",
    "version": 3
   },
   "file_extension": ".py",
   "mimetype": "text/x-python",
   "name": "python",
   "nbconvert_exporter": "python",
   "pygments_lexer": "ipython3",
   "version": "3.9.13"
  },
  "toc": {
   "base_numbering": 1,
   "nav_menu": {},
   "number_sections": true,
   "sideBar": true,
   "skip_h1_title": true,
   "title_cell": "Содержание",
   "title_sidebar": "Contents",
   "toc_cell": true,
   "toc_position": {
    "height": "calc(100% - 180px)",
    "left": "10px",
    "top": "150px",
    "width": "164.988px"
   },
   "toc_section_display": true,
   "toc_window_display": true
  }
 },
 "nbformat": 4,
 "nbformat_minor": 2
}
